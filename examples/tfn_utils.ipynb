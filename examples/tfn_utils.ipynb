{
 "cells": [
  {
   "cell_type": "code",
   "execution_count": 1,
   "metadata": {},
   "outputs": [],
   "source": [
    "import torch\n",
    "import numpy as np\n",
    "\n",
    "# Change import path to access tfn_torch\n",
    "import sys\n",
    "import os\n",
    "sys.path.append(os.path.abspath('..'))\n",
    "from models.tfn_torch import *"
   ]
  },
  {
   "cell_type": "code",
   "execution_count": 2,
   "metadata": {},
   "outputs": [
    {
     "name": "stdout",
     "output_type": "stream",
     "text": [
      "Levi-Civita Tensor (eijk):\n",
      "tensor([[[ 0.,  0.,  0.],\n",
      "         [ 0.,  0.,  1.],\n",
      "         [ 0., -1.,  0.]],\n",
      "\n",
      "        [[ 0.,  0., -1.],\n",
      "         [ 0.,  0.,  0.],\n",
      "         [ 1.,  0.,  0.]],\n",
      "\n",
      "        [[ 0.,  1.,  0.],\n",
      "         [-1.,  0.,  0.],\n",
      "         [ 0.,  0.,  0.]]])\n"
     ]
    }
   ],
   "source": [
    "# Test get_eijk function\n",
    "eijk = get_eijk()\n",
    "print(\"Levi-Civita Tensor (eijk):\")\n",
    "print(eijk)\n"
   ]
  },
  {
   "cell_type": "code",
   "execution_count": 3,
   "metadata": {},
   "outputs": [
    {
     "name": "stdout",
     "output_type": "stream",
     "text": [
      "Norm with epsilon (sample tensor):\n",
      "tensor([[2.6316, 0.9024, 2.0546, 1.6455, 1.5706],\n",
      "        [1.2793, 0.8458, 1.2129, 2.1174, 1.3368],\n",
      "        [1.2780, 1.8707, 2.6705, 3.0279, 1.2397],\n",
      "        [1.6068, 1.7479, 1.6441, 2.6085, 1.0254],\n",
      "        [1.2805, 2.7064, 1.6735, 2.1859, 1.8716]])\n"
     ]
    }
   ],
   "source": [
    "# Test norm_with_epsilon function\n",
    "tensor = torch.randn(5, 5, 3)  # Random tensor of shape [5, 5, 3]\n",
    "norm = norm_with_epsilon(tensor, dim=-1)\n",
    "print(\"Norm with epsilon (sample tensor):\")\n",
    "print(norm)\n"
   ]
  },
  {
   "cell_type": "code",
   "execution_count": 4,
   "metadata": {},
   "outputs": [
    {
     "name": "stdout",
     "output_type": "stream",
     "text": [
      "Shifted Soft Plus output:\n",
      "tensor([-0.0072, -0.3984, -0.0549, -0.0681,  0.1712,  0.1557, -0.1043,  0.0500,\n",
      "        -0.4511, -0.0986])\n"
     ]
    }
   ],
   "source": [
    "# Test shifted soft plus function (ssp)\n",
    "x = torch.randn(10)  # A random vector\n",
    "ssp_out = ssp(x)\n",
    "print(\"Shifted Soft Plus output:\")\n",
    "print(ssp_out)\n"
   ]
  },
  {
   "cell_type": "code",
   "execution_count": 5,
   "metadata": {},
   "outputs": [
    {
     "name": "stdout",
     "output_type": "stream",
     "text": [
      "Rotation Equivariant Nonlinearity Output:\n",
      "tensor([[[ 0.4601],\n",
      "         [-0.5550],\n",
      "         [ 1.1628],\n",
      "         [ 0.3020],\n",
      "         [-0.1060]],\n",
      "\n",
      "        [[-0.4740],\n",
      "         [ 0.7780],\n",
      "         [-0.4257],\n",
      "         [ 0.1247],\n",
      "         [ 0.2622]],\n",
      "\n",
      "        [[ 0.0193],\n",
      "         [-0.2629],\n",
      "         [ 0.1126],\n",
      "         [-0.1536],\n",
      "         [ 0.2525]],\n",
      "\n",
      "        [[ 0.9076],\n",
      "         [ 0.6009],\n",
      "         [ 0.2431],\n",
      "         [-0.3391],\n",
      "         [ 0.3530]],\n",
      "\n",
      "        [[-0.0517],\n",
      "         [-0.3011],\n",
      "         [ 0.3752],\n",
      "         [ 1.4019],\n",
      "         [-0.1941]],\n",
      "\n",
      "        [[-0.3680],\n",
      "         [-0.4822],\n",
      "         [ 0.3700],\n",
      "         [-0.2205],\n",
      "         [-0.0439]],\n",
      "\n",
      "        [[-0.5906],\n",
      "         [-0.3711],\n",
      "         [ 0.6829],\n",
      "         [ 1.0274],\n",
      "         [ 0.0671]],\n",
      "\n",
      "        [[ 0.2444],\n",
      "         [ 0.0447],\n",
      "         [ 0.6268],\n",
      "         [ 0.3311],\n",
      "         [-0.3509]],\n",
      "\n",
      "        [[-0.1242],\n",
      "         [-0.3000],\n",
      "         [-0.3512],\n",
      "         [ 0.1351],\n",
      "         [ 0.7347]],\n",
      "\n",
      "        [[ 0.4957],\n",
      "         [-0.1904],\n",
      "         [ 0.6075],\n",
      "         [-0.3994],\n",
      "         [ 0.4960]]])\n"
     ]
    }
   ],
   "source": [
    "# Test rotation equivariant nonlinearity\n",
    "x = torch.randn(10, 5, 1)  # Random tensor of shape [10, 5, 1] (channels, M)\n",
    "output = rotation_equivariant_nonlinearity(x)\n",
    "print(\"Rotation Equivariant Nonlinearity Output:\")\n",
    "print(output)\n"
   ]
  },
  {
   "cell_type": "code",
   "execution_count": 6,
   "metadata": {},
   "outputs": [
    {
     "name": "stdout",
     "output_type": "stream",
     "text": [
      "Difference Matrix (relative vectors):\n",
      "tensor([[[ 0.0000,  0.0000,  0.0000],\n",
      "         [ 0.2452,  0.9747,  1.6944],\n",
      "         [-0.4484,  2.8429, -0.6752],\n",
      "         [ 0.0074, -0.0919, -1.0078]],\n",
      "\n",
      "        [[-0.2452, -0.9747, -1.6944],\n",
      "         [ 0.0000,  0.0000,  0.0000],\n",
      "         [-0.6936,  1.8682, -2.3696],\n",
      "         [-0.2379, -1.0666, -2.7022]],\n",
      "\n",
      "        [[ 0.4484, -2.8429,  0.6752],\n",
      "         [ 0.6936, -1.8682,  2.3696],\n",
      "         [ 0.0000,  0.0000,  0.0000],\n",
      "         [ 0.4558, -2.9348, -0.3326]],\n",
      "\n",
      "        [[-0.0074,  0.0919,  1.0078],\n",
      "         [ 0.2379,  1.0666,  2.7022],\n",
      "         [-0.4558,  2.9348,  0.3326],\n",
      "         [ 0.0000,  0.0000,  0.0000]]])\n",
      "Distance Matrix:\n",
      "tensor([[1.0000e-04, 1.9701e+00, 2.9562e+00, 1.0120e+00],\n",
      "        [1.9701e+00, 1.0000e-04, 3.0962e+00, 2.9148e+00],\n",
      "        [2.9562e+00, 3.0962e+00, 1.0000e-04, 2.9885e+00],\n",
      "        [1.0120e+00, 2.9148e+00, 2.9885e+00, 1.0000e-04]])\n"
     ]
    }
   ],
   "source": [
    "# Test difference matrix\n",
    "geometry = torch.randn(4, 3)  # Random set of 4 points in 3D\n",
    "diff_matrix = difference_matrix(geometry)\n",
    "print(\"Difference Matrix (relative vectors):\")\n",
    "print(diff_matrix)\n",
    "\n",
    "# Test distance matrix\n",
    "dist_matrix = distance_matrix(geometry)\n",
    "print(\"Distance Matrix:\")\n",
    "print(dist_matrix)\n"
   ]
  },
  {
   "cell_type": "code",
   "execution_count": 7,
   "metadata": {},
   "outputs": [
    {
     "name": "stdout",
     "output_type": "stream",
     "text": [
      "Random Rotation Matrix:\n",
      "[[ 0.71633922 -0.6942997   0.0693257 ]\n",
      " [ 0.60546963  0.56914161 -0.55631318]\n",
      " [ 0.34679193  0.44048356  0.82807584]]\n"
     ]
    }
   ],
   "source": [
    "# Test random rotation matrix\n",
    "rng = np.random.RandomState(42)  # Use a fixed random state for reproducibility\n",
    "rand_rotation_matrix = random_rotation_matrix(rng)\n",
    "print(\"Random Rotation Matrix:\")\n",
    "print(rand_rotation_matrix)\n"
   ]
  },
  {
   "cell_type": "code",
   "execution_count": 8,
   "metadata": {},
   "outputs": [
    {
     "name": "stdout",
     "output_type": "stream",
     "text": [
      "Rotation Matrix (45 degrees around Z-axis):\n",
      "[[ 0.70710678 -0.70710678  0.        ]\n",
      " [ 0.70710678  0.70710678  0.        ]\n",
      " [ 0.          0.          1.        ]]\n"
     ]
    }
   ],
   "source": [
    "# Test rotation matrix\n",
    "axis = np.array([0, 0, 1])  # Rotation around the Z-axis\n",
    "theta = np.pi / 4  # 45 degrees\n",
    "rotation_matrix_result = rotation_matrix(axis, theta)\n",
    "print(\"Rotation Matrix (45 degrees around Z-axis):\")\n",
    "print(rotation_matrix_result)\n"
   ]
  }
 ],
 "metadata": {
  "kernelspec": {
   "display_name": "kuas",
   "language": "python",
   "name": "python3"
  },
  "language_info": {
   "codemirror_mode": {
    "name": "ipython",
    "version": 3
   },
   "file_extension": ".py",
   "mimetype": "text/x-python",
   "name": "python",
   "nbconvert_exporter": "python",
   "pygments_lexer": "ipython3",
   "version": "3.9.20"
  }
 },
 "nbformat": 4,
 "nbformat_minor": 2
}
